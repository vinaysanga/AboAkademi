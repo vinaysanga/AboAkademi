{
  "nbformat": 4,
  "nbformat_minor": 0,
  "metadata": {
    "colab": {
      "provenance": []
    },
    "kernelspec": {
      "name": "python3",
      "display_name": "Python 3"
    },
    "language_info": {
      "name": "python"
    }
  },
  "cells": [
    {
      "cell_type": "markdown",
      "source": [
        "# DS lab assignment 2"
      ],
      "metadata": {
        "id": "a8_3lkNBC06J"
      }
    },
    {
      "cell_type": "markdown",
      "source": [
        "Group members: Md Masum Billah, Vinay Sanga, Ammara Asif"
      ],
      "metadata": {
        "id": "dqs-u3HJCyoX"
      }
    },
    {
      "cell_type": "code",
      "execution_count": 1,
      "metadata": {
        "id": "fS1SbtG2yTmY"
      },
      "outputs": [],
      "source": [
        "import pandas as pd"
      ]
    },
    {
      "cell_type": "code",
      "source": [
        "df = pd.read_csv('https://raw.githubusercontent.com/selva86/datasets/master/BostonHousing.csv')\n",
        "# Removing column b\n",
        "df = df.drop(columns=['b'])\n",
        "\n",
        "# information about the data\n",
        "info_data = df.info()\n",
        "\n",
        "# Provide descriptive statistics\n",
        "desc_data = df.describe()\n",
        "\n",
        "#Check for missing values\n",
        "missing_values = df.isnull().sum()\n",
        "\n",
        "info_data, desc_data, missing_values"
      ],
      "metadata": {
        "id": "KVoOGBc61BIw",
        "colab": {
          "base_uri": "https://localhost:8080/"
        },
        "outputId": "fe945be8-9f3f-44e2-f0ac-59427e47289d"
      },
      "execution_count": 2,
      "outputs": [
        {
          "output_type": "stream",
          "name": "stdout",
          "text": [
            "<class 'pandas.core.frame.DataFrame'>\n",
            "RangeIndex: 506 entries, 0 to 505\n",
            "Data columns (total 13 columns):\n",
            " #   Column   Non-Null Count  Dtype  \n",
            "---  ------   --------------  -----  \n",
            " 0   crim     506 non-null    float64\n",
            " 1   zn       506 non-null    float64\n",
            " 2   indus    506 non-null    float64\n",
            " 3   chas     506 non-null    int64  \n",
            " 4   nox      506 non-null    float64\n",
            " 5   rm       506 non-null    float64\n",
            " 6   age      506 non-null    float64\n",
            " 7   dis      506 non-null    float64\n",
            " 8   rad      506 non-null    int64  \n",
            " 9   tax      506 non-null    int64  \n",
            " 10  ptratio  506 non-null    float64\n",
            " 11  lstat    506 non-null    float64\n",
            " 12  medv     506 non-null    float64\n",
            "dtypes: float64(10), int64(3)\n",
            "memory usage: 51.5 KB\n"
          ]
        },
        {
          "output_type": "execute_result",
          "data": {
            "text/plain": [
              "(None,\n",
              "              crim          zn       indus        chas         nox          rm  \\\n",
              " count  506.000000  506.000000  506.000000  506.000000  506.000000  506.000000   \n",
              " mean     3.613524   11.363636   11.136779    0.069170    0.554695    6.284634   \n",
              " std      8.601545   23.322453    6.860353    0.253994    0.115878    0.702617   \n",
              " min      0.006320    0.000000    0.460000    0.000000    0.385000    3.561000   \n",
              " 25%      0.082045    0.000000    5.190000    0.000000    0.449000    5.885500   \n",
              " 50%      0.256510    0.000000    9.690000    0.000000    0.538000    6.208500   \n",
              " 75%      3.677083   12.500000   18.100000    0.000000    0.624000    6.623500   \n",
              " max     88.976200  100.000000   27.740000    1.000000    0.871000    8.780000   \n",
              " \n",
              "               age         dis         rad         tax     ptratio       lstat  \\\n",
              " count  506.000000  506.000000  506.000000  506.000000  506.000000  506.000000   \n",
              " mean    68.574901    3.795043    9.549407  408.237154   18.455534   12.653063   \n",
              " std     28.148861    2.105710    8.707259  168.537116    2.164946    7.141062   \n",
              " min      2.900000    1.129600    1.000000  187.000000   12.600000    1.730000   \n",
              " 25%     45.025000    2.100175    4.000000  279.000000   17.400000    6.950000   \n",
              " 50%     77.500000    3.207450    5.000000  330.000000   19.050000   11.360000   \n",
              " 75%     94.075000    5.188425   24.000000  666.000000   20.200000   16.955000   \n",
              " max    100.000000   12.126500   24.000000  711.000000   22.000000   37.970000   \n",
              " \n",
              "              medv  \n",
              " count  506.000000  \n",
              " mean    22.532806  \n",
              " std      9.197104  \n",
              " min      5.000000  \n",
              " 25%     17.025000  \n",
              " 50%     21.200000  \n",
              " 75%     25.000000  \n",
              " max     50.000000  ,\n",
              " crim       0\n",
              " zn         0\n",
              " indus      0\n",
              " chas       0\n",
              " nox        0\n",
              " rm         0\n",
              " age        0\n",
              " dis        0\n",
              " rad        0\n",
              " tax        0\n",
              " ptratio    0\n",
              " lstat      0\n",
              " medv       0\n",
              " dtype: int64)"
            ]
          },
          "metadata": {},
          "execution_count": 2
        }
      ]
    },
    {
      "cell_type": "markdown",
      "source": [
        "# Splitting test and train dataset in 80:20 ratio"
      ],
      "metadata": {
        "id": "FjdF-eZ13Ezr"
      }
    },
    {
      "cell_type": "code",
      "source": [
        "from sklearn.model_selection import train_test_split\n",
        "\n",
        "# Splitting the dataset into training and test sets (80% train, 20% test)\n",
        "X = df.drop('medv', axis=1)  # Features\n",
        "y = df['medv']  # Target variable\n",
        "\n",
        "X_train, X_test, y_train, y_test = train_test_split(X, y, test_size=0.2, random_state=42)\n",
        "\n",
        "X_train.shape, X_test.shape, y_train.shape, y_test.shape"
      ],
      "metadata": {
        "colab": {
          "base_uri": "https://localhost:8080/"
        },
        "id": "HXwOICfGrqPX",
        "outputId": "0ccc8cb2-11f9-4b78-f9e0-fe2155daaa81"
      },
      "execution_count": 3,
      "outputs": [
        {
          "output_type": "execute_result",
          "data": {
            "text/plain": [
              "((404, 12), (102, 12), (404,), (102,))"
            ]
          },
          "metadata": {},
          "execution_count": 3
        }
      ]
    },
    {
      "cell_type": "markdown",
      "source": [
        "# Applying and finding accuracy of Linear and Random forest regression without removing any columns/features (on Original dataset)"
      ],
      "metadata": {
        "id": "ZLjlbOOz2sD8"
      }
    },
    {
      "cell_type": "markdown",
      "source": [
        "Applying Linear Regression and printing accuracy on original dataset"
      ],
      "metadata": {
        "id": "SbhvAPy6Dyhd"
      }
    },
    {
      "cell_type": "code",
      "source": [
        "from sklearn.linear_model import LinearRegression\n",
        "\n",
        "#Applying Linear Regression\n",
        "linear_model = LinearRegression()\n",
        "linear_model.fit(X_train, y_train)\n",
        "linear_accuracy = linear_model.score(X_test, y_test) * 100  # Accuracy in percentage\n",
        "\n",
        "linear_accuracy"
      ],
      "metadata": {
        "colab": {
          "base_uri": "https://localhost:8080/"
        },
        "id": "bBKxSxzjsmKK",
        "outputId": "75957cc1-ed69-4d5d-f5d8-438846a53542"
      },
      "execution_count": 4,
      "outputs": [
        {
          "output_type": "execute_result",
          "data": {
            "text/plain": [
              "68.93967884614753"
            ]
          },
          "metadata": {},
          "execution_count": 4
        }
      ]
    },
    {
      "cell_type": "markdown",
      "source": [
        "Applying Random Forest and printing accuracy on original dataset"
      ],
      "metadata": {
        "id": "n5PQihm_D0YO"
      }
    },
    {
      "cell_type": "code",
      "source": [
        "from sklearn.ensemble import RandomForestRegressor\n",
        "\n",
        "#Applying Random Forest\n",
        "rf_model = RandomForestRegressor(random_state=42)\n",
        "rf_model.fit(X_train, y_train)\n",
        "rf_accuracy = rf_model.score(X_test, y_test) * 100  # Accuracy in percentage\n",
        "\n",
        "rf_accuracy"
      ],
      "metadata": {
        "colab": {
          "base_uri": "https://localhost:8080/"
        },
        "id": "fiWcliPh2iRN",
        "outputId": "8c593b0c-c634-42fe-83e2-9e4c02014f98"
      },
      "execution_count": 5,
      "outputs": [
        {
          "output_type": "execute_result",
          "data": {
            "text/plain": [
              "89.07962174500659"
            ]
          },
          "metadata": {},
          "execution_count": 5
        }
      ]
    },
    {
      "cell_type": "markdown",
      "source": [
        "# Applying and finding accuracy of Linear and Random forest regression by removing less important features from the Random Forest model (On Feature Importance Filtered dataset)"
      ],
      "metadata": {
        "id": "trMPgqqU3lm1"
      }
    },
    {
      "cell_type": "markdown",
      "source": [
        "First, finding less importance features from the Random Forest model"
      ],
      "metadata": {
        "id": "DA7UaDyPEjn3"
      }
    },
    {
      "cell_type": "code",
      "source": [
        "# Getting feature importances from the Random Forest model\n",
        "feature_importances = rf_model.feature_importances_\n",
        "\n",
        "# Creating a DataFrame for feature importances\n",
        "features_df = pd.DataFrame({\n",
        "    'Feature': X_train.columns,\n",
        "    'Importance': feature_importances\n",
        "})\n",
        "\n",
        "# Sorting the features based on importance\n",
        "sorted_features_df = features_df.sort_values(by='Importance', ascending=True)\n",
        "\n",
        "# Plotting the feature importances\n",
        "import matplotlib.pyplot as plt\n",
        "\n",
        "plt.figure(figsize=(10, 8))\n",
        "plt.barh(sorted_features_df['Feature'], sorted_features_df['Importance'], color='skyblue')\n",
        "plt.xlabel('Importance')\n",
        "plt.title('Feature Importances from Random Forest')\n",
        "plt.show()\n",
        "\n",
        "sorted_features_df"
      ],
      "metadata": {
        "colab": {
          "base_uri": "https://localhost:8080/",
          "height": 1000
        },
        "id": "RuqHEr17zate",
        "outputId": "2e3fccc3-9b72-4ebd-9978-632692ca5640"
      },
      "execution_count": 6,
      "outputs": [
        {
          "output_type": "display_data",
          "data": {
            "text/plain": [
              "<Figure size 1000x800 with 1 Axes>"
            ],
            "image/png": "[encoded data removed]"
          },
          "metadata": {}
        },
        {
          "output_type": "execute_result",
          "data": {
            "text/plain": [
              "    Feature  Importance\n",
              "3      chas    0.001651\n",
              "1        zn    0.001755\n",
              "8       rad    0.006260\n",
              "2     indus    0.007271\n",
              "6       age    0.014260\n",
              "4       nox    0.016024\n",
              "9       tax    0.016670\n",
              "10  ptratio    0.017454\n",
              "0      crim    0.040851\n",
              "7       dis    0.060598\n",
              "11    lstat    0.312732\n",
              "5        rm    0.504473"
            ],
            "text/html": [
              "\n",
              "  <div id=\"df-8007d8bb-d3e6-4852-9228-2413efff2975\" class=\"colab-df-container\">\n",
              "    <div>\n",
              "<style scoped>\n",
              "    .dataframe tbody tr th:only-of-type {\n",
              "        vertical-align: middle;\n",
              "    }\n",
              "\n",
              "    .dataframe tbody tr th {\n",
              "        vertical-align: top;\n",
              "    }\n",
              "\n",
              "    .dataframe thead th {\n",
              "        text-align: right;\n",
              "    }\n",
              "</style>\n",
              "<table border=\"1\" class=\"dataframe\">\n",
              "  <thead>\n",
              "    <tr style=\"text-align: right;\">\n",
              "      <th></th>\n",
              "      <th>Feature</th>\n",
              "      <th>Importance</th>\n",
              "    </tr>\n",
              "  </thead>\n",
              "  <tbody>\n",
              "    <tr>\n",
              "      <th>3</th>\n",
              "      <td>chas</td>\n",
              "      <td>0.001651</td>\n",
              "    </tr>\n",
              "    <tr>\n",
              "      <th>1</th>\n",
              "      <td>zn</td>\n",
              "      <td>0.001755</td>\n",
              "    </tr>\n",
              "    <tr>\n",
              "      <th>8</th>\n",
              "      <td>rad</td>\n",
              "      <td>0.006260</td>\n",
              "    </tr>\n",
              "    <tr>\n",
              "      <th>2</th>\n",
              "      <td>indus</td>\n",
              "      <td>0.007271</td>\n",
              "    </tr>\n",
              "    <tr>\n",
              "      <th>6</th>\n",
              "      <td>age</td>\n",
              "      <td>0.014260</td>\n",
              "    </tr>\n",
              "    <tr>\n",
              "      <th>4</th>\n",
              "      <td>nox</td>\n",
              "      <td>0.016024</td>\n",
              "    </tr>\n",
              "    <tr>\n",
              "      <th>9</th>\n",
              "      <td>tax</td>\n",
              "      <td>0.016670</td>\n",
              "    </tr>\n",
              "    <tr>\n",
              "      <th>10</th>\n",
              "      <td>ptratio</td>\n",
              "      <td>0.017454</td>\n",
              "    </tr>\n",
              "    <tr>\n",
              "      <th>0</th>\n",
              "      <td>crim</td>\n",
              "      <td>0.040851</td>\n",
              "    </tr>\n",
              "    <tr>\n",
              "      <th>7</th>\n",
              "      <td>dis</td>\n",
              "      <td>0.060598</td>\n",
              "    </tr>\n",
              "    <tr>\n",
              "      <th>11</th>\n",
              "      <td>lstat</td>\n",
              "      <td>0.312732</td>\n",
              "    </tr>\n",
              "    <tr>\n",
              "      <th>5</th>\n",
              "      <td>rm</td>\n",
              "      <td>0.504473</td>\n",
              "    </tr>\n",
              "  </tbody>\n",
              "</table>\n",
              "</div>\n",
              "    <div class=\"colab-df-buttons\">\n",
              "\n",
              "  <div class=\"colab-df-container\">\n",
              "    <button class=\"colab-df-convert\" onclick=\"convertToInteractive('df-8007d8bb-d3e6-4852-9228-2413efff2975')\"\n",
              "            title=\"Convert this dataframe to an interactive table.\"\n",
              "            style=\"display:none;\">\n",
              "\n",
              "  <svg xmlns=\"http://www.w3.org/2000/svg\" height=\"24px\" viewBox=\"0 -960 960 960\">\n",
              "    <path d=\"M120-120v-720h720v720H120Zm60-500h600v-160H180v160Zm220 220h160v-160H400v160Zm0 220h160v-160H400v160ZM180-400h160v-160H180v160Zm440 0h160v-160H620v160ZM180-180h160v-160H180v160Zm440 0h160v-160H620v160Z\"/>\n",
              "  </svg>\n",
              "    </button>\n",
              "\n",
              "  <style>\n",
              "    .colab-df-container {\n",
              "      display:flex;\n",
              "      gap: 12px;\n",
              "    }\n",
              "\n",
              "    .colab-df-convert {\n",
              "      background-color: #E8F0FE;\n",
              "      border: none;\n",
              "      border-radius: 50%;\n",
              "      cursor: pointer;\n",
              "      display: none;\n",
              "      fill: #1967D2;\n",
              "      height: 32px;\n",
              "      padding: 0 0 0 0;\n",
              "      width: 32px;\n",
              "    }\n",
              "\n",
              "    .colab-df-convert:hover {\n",
              "      background-color: #E2EBFA;\n",
              "      box-shadow: 0px 1px 2px rgba(60, 64, 67, 0.3), 0px 1px 3px 1px rgba(60, 64, 67, 0.15);\n",
              "      fill: #174EA6;\n",
              "    }\n",
              "\n",
              "    .colab-df-buttons div {\n",
              "      margin-bottom: 4px;\n",
              "    }\n",
              "\n",
              "    [theme=dark] .colab-df-convert {\n",
              "      background-color: #3B4455;\n",
              "      fill: #D2E3FC;\n",
              "    }\n",
              "\n",
              "    [theme=dark] .colab-df-convert:hover {\n",
              "      background-color: #434B5C;\n",
              "      box-shadow: 0px 1px 3px 1px rgba(0, 0, 0, 0.15);\n",
              "      filter: drop-shadow(0px 1px 2px rgba(0, 0, 0, 0.3));\n",
              "      fill: #FFFFFF;\n",
              "    }\n",
              "  </style>\n",
              "\n",
              "    <script>\n",
              "      const buttonEl =\n",
              "        document.querySelector('#df-8007d8bb-d3e6-4852-9228-2413efff2975 button.colab-df-convert');\n",
              "      buttonEl.style.display =\n",
              "        google.colab.kernel.accessAllowed ? 'block' : 'none';\n",
              "\n",
              "      async function convertToInteractive(key) {\n",
              "        const element = document.querySelector('#df-8007d8bb-d3e6-4852-9228-2413efff2975');\n",
              "        const dataTable =\n",
              "          await google.colab.kernel.invokeFunction('convertToInteractive',\n",
              "                                                    [key], {});\n",
              "        if (!dataTable) return;\n",
              "\n",
              "        const docLinkHtml = 'Like what you see? Visit the ' +\n",
              "          '<a target=\"_blank\" href=https://colab.research.google.com/notebooks/data_table.ipynb>data table notebook</a>'\n",
              "          + ' to learn more about interactive tables.';\n",
              "        element.innerHTML = '';\n",
              "        dataTable['output_type'] = 'display_data';\n",
              "        await google.colab.output.renderOutput(dataTable, element);\n",
              "        const docLink = document.createElement('div');\n",
              "        docLink.innerHTML = docLinkHtml;\n",
              "        element.appendChild(docLink);\n",
              "      }\n",
              "    </script>\n",
              "  </div>\n",
              "\n",
              "\n",
              "<div id=\"df-96963a92-f90c-4546-b21b-e9e1c7a2af7a\">\n",
              "  <button class=\"colab-df-quickchart\" onclick=\"quickchart('df-96963a92-f90c-4546-b21b-e9e1c7a2af7a')\"\n",
              "            title=\"Suggest charts.\"\n",
              "            style=\"display:none;\">\n",
              "\n",
              "<svg xmlns=\"http://www.w3.org/2000/svg\" height=\"24px\"viewBox=\"0 0 24 24\"\n",
              "     width=\"24px\">\n",
              "    <g>\n",
              "        <path d=\"M19 3H5c-1.1 0-2 .9-2 2v14c0 1.1.9 2 2 2h14c1.1 0 2-.9 2-2V5c0-1.1-.9-2-2-2zM9 17H7v-7h2v7zm4 0h-2V7h2v10zm4 0h-2v-4h2v4z\"/>\n",
              "    </g>\n",
              "</svg>\n",
              "  </button>\n",
              "\n",
              "<style>\n",
              "  .colab-df-quickchart {\n",
              "      --bg-color: #E8F0FE;\n",
              "      --fill-color: #1967D2;\n",
              "      --hover-bg-color: #E2EBFA;\n",
              "      --hover-fill-color: #174EA6;\n",
              "      --disabled-fill-color: #AAA;\n",
              "      --disabled-bg-color: #DDD;\n",
              "  }\n",
              "\n",
              "  [theme=dark] .colab-df-quickchart {\n",
              "      --bg-color: #3B4455;\n",
              "      --fill-color: #D2E3FC;\n",
              "      --hover-bg-color: #434B5C;\n",
              "      --hover-fill-color: #FFFFFF;\n",
              "      --disabled-bg-color: #3B4455;\n",
              "      --disabled-fill-color: #666;\n",
              "  }\n",
              "\n",
              "  .colab-df-quickchart {\n",
              "    background-color: var(--bg-color);\n",
              "    border: none;\n",
              "    border-radius: 50%;\n",
              "    cursor: pointer;\n",
              "    display: none;\n",
              "    fill: var(--fill-color);\n",
              "    height: 32px;\n",
              "    padding: 0;\n",
              "    width: 32px;\n",
              "  }\n",
              "\n",
              "  .colab-df-quickchart:hover {\n",
              "    background-color: var(--hover-bg-color);\n",
              "    box-shadow: 0 1px 2px rgba(60, 64, 67, 0.3), 0 1px 3px 1px rgba(60, 64, 67, 0.15);\n",
              "    fill: var(--button-hover-fill-color);\n",
              "  }\n",
              "\n",
              "  .colab-df-quickchart-complete:disabled,\n",
              "  .colab-df-quickchart-complete:disabled:hover {\n",
              "    background-color: var(--disabled-bg-color);\n",
              "    fill: var(--disabled-fill-color);\n",
              "    box-shadow: none;\n",
              "  }\n",
              "\n",
              "  .colab-df-spinner {\n",
              "    border: 2px solid var(--fill-color);\n",
              "    border-color: transparent;\n",
              "    border-bottom-color: var(--fill-color);\n",
              "    animation:\n",
              "      spin 1s steps(1) infinite;\n",
              "  }\n",
              "\n",
              "  @keyframes spin {\n",
              "    0% {\n",
              "      border-color: transparent;\n",
              "      border-bottom-color: var(--fill-color);\n",
              "      border-left-color: var(--fill-color);\n",
              "    }\n",
              "    20% {\n",
              "      border-color: transparent;\n",
              "      border-left-color: var(--fill-color);\n",
              "      border-top-color: var(--fill-color);\n",
              "    }\n",
              "    30% {\n",
              "      border-color: transparent;\n",
              "      border-left-color: var(--fill-color);\n",
              "      border-top-color: var(--fill-color);\n",
              "      border-right-color: var(--fill-color);\n",
              "    }\n",
              "    40% {\n",
              "      border-color: transparent;\n",
              "      border-right-color: var(--fill-color);\n",
              "      border-top-color: var(--fill-color);\n",
              "    }\n",
              "    60% {\n",
              "      border-color: transparent;\n",
              "      border-right-color: var(--fill-color);\n",
              "    }\n",
              "    80% {\n",
              "      border-color: transparent;\n",
              "      border-right-color: var(--fill-color);\n",
              "      border-bottom-color: var(--fill-color);\n",
              "    }\n",
              "    90% {\n",
              "      border-color: transparent;\n",
              "      border-bottom-color: var(--fill-color);\n",
              "    }\n",
              "  }\n",
              "</style>\n",
              "\n",
              "  <script>\n",
              "    async function quickchart(key) {\n",
              "      const quickchartButtonEl =\n",
              "        document.querySelector('#' + key + ' button');\n",
              "      quickchartButtonEl.disabled = true;  // To prevent multiple clicks.\n",
              "      quickchartButtonEl.classList.add('colab-df-spinner');\n",
              "      try {\n",
              "        const charts = await google.colab.kernel.invokeFunction(\n",
              "            'suggestCharts', [key], {});\n",
              "      } catch (error) {\n",
              "        console.error('Error during call to suggestCharts:', error);\n",
              "      }\n",
              "      quickchartButtonEl.classList.remove('colab-df-spinner');\n",
              "      quickchartButtonEl.classList.add('colab-df-quickchart-complete');\n",
              "    }\n",
              "    (() => {\n",
              "      let quickchartButtonEl =\n",
              "        document.querySelector('#df-96963a92-f90c-4546-b21b-e9e1c7a2af7a button');\n",
              "      quickchartButtonEl.style.display =\n",
              "        google.colab.kernel.accessAllowed ? 'block' : 'none';\n",
              "    })();\n",
              "  </script>\n",
              "</div>\n",
              "    </div>\n",
              "  </div>\n"
            ]
          },
          "metadata": {},
          "execution_count": 6
        }
      ]
    },
    {
      "cell_type": "markdown",
      "source": [
        "For this exercise, I'll start by removing the four least important features: chas, zn, rad, and indus.\n",
        "\n",
        "Then, Applying Linear Regression and printing accuracy on Feature Importance Filtered dataset\n"
      ],
      "metadata": {
        "id": "mpR5PPLQzrH7"
      }
    },
    {
      "cell_type": "code",
      "source": [
        "# Removing the least important features\n",
        "columns_to_drop = ['chas', 'zn', 'rad', 'indus']\n",
        "X_modified = X.drop(columns=columns_to_drop)\n",
        "\n",
        "# Splitting the modified dataset into training and test sets\n",
        "X_train_modified, X_test_modified, y_train_modified, y_test_modified = train_test_split(\n",
        "    X_modified, y, test_size=0.2, random_state=42\n",
        ")\n",
        "\n",
        "\n",
        "# Linear Regression\n",
        "linear_model_modified = LinearRegression()\n",
        "linear_model_modified.fit(X_train_modified, y_train_modified)\n",
        "linear_accuracy_modified = linear_model_modified.score(X_test_modified, y_test_modified) * 100\n",
        "\n",
        "\n",
        "linear_accuracy_modified"
      ],
      "metadata": {
        "colab": {
          "base_uri": "https://localhost:8080/"
        },
        "id": "THRCGA08zt-l",
        "outputId": "12513cad-c49d-469f-ac2f-925931f50fd4"
      },
      "execution_count": 7,
      "outputs": [
        {
          "output_type": "execute_result",
          "data": {
            "text/plain": [
              "63.98034066650792"
            ]
          },
          "metadata": {},
          "execution_count": 7
        }
      ]
    },
    {
      "cell_type": "markdown",
      "source": [
        "Applying Random Forest and printing accuracy on Feature Importance Filtered dataset"
      ],
      "metadata": {
        "id": "_9drGkH1FlSh"
      }
    },
    {
      "cell_type": "code",
      "source": [
        "# Random Forest\n",
        "rf_model_modified = RandomForestRegressor(random_state=42)\n",
        "rf_model_modified.fit(X_train_modified, y_train_modified)\n",
        "rf_accuracy_modified = rf_model_modified.score(X_test_modified, y_test_modified) * 100\n",
        "\n",
        "rf_accuracy_modified"
      ],
      "metadata": {
        "colab": {
          "base_uri": "https://localhost:8080/"
        },
        "id": "bQnJOsIs4Ea9",
        "outputId": "fdac24bd-1402-428a-a242-f57f3f26edd2"
      },
      "execution_count": 8,
      "outputs": [
        {
          "output_type": "execute_result",
          "data": {
            "text/plain": [
              "88.81871331868206"
            ]
          },
          "metadata": {},
          "execution_count": 8
        }
      ]
    },
    {
      "cell_type": "markdown",
      "source": [
        "# Applying and finding accuracy of Liner and Random forest regression by removing less important features using the correlation matrix (On Correlation-Based Filtered dataset).\n",
        "Removal critaria is giben below\n",
        "1. Features with a very low correlation of less than 0.3 with the target variable.\n",
        "2. Features that have a very high correlation of more than 0.9 with each other.\n"
      ],
      "metadata": {
        "id": "aCtFCvHW1Yk6"
      }
    },
    {
      "cell_type": "code",
      "source": [
        "import seaborn as sns\n",
        "X = df.drop(columns=['medv'])\n",
        "y = df['medv']\n",
        "correlation=X.corr()\n",
        "correlation\n",
        "sns.heatmap(correlation,cbar=True)"
      ],
      "metadata": {
        "colab": {
          "base_uri": "https://localhost:8080/",
          "height": 486
        },
        "id": "F4wFD6wl2DVL",
        "outputId": "9d899bac-4d40-410c-b28d-04ad15ecfe36"
      },
      "execution_count": 9,
      "outputs": [
        {
          "output_type": "execute_result",
          "data": {
            "text/plain": [
              "<Axes: >"
            ]
          },
          "metadata": {},
          "execution_count": 9
        },
        {
          "output_type": "display_data",
          "data": {
            "text/plain": [
              "<Figure size 640x480 with 2 Axes>"
            ],
            "image/png": "[encoded data removed]"
          },
          "metadata": {}
        }
      ]
    },
    {
      "cell_type": "code",
      "source": [
        "# Compute the correlation matrix\n",
        "correlation_matrix = df.corr()\n",
        "\n",
        "#Identifying features with correlation less than 0.3 with the target variable 'MEDV'\n",
        "low_corr_with_target = correlation_matrix.index[correlation_matrix['medv'].abs() < 0.3]\n",
        "\n",
        "#Identifying features that have a correlation of more than 0.9 with each other (excluding diagonal)\n",
        "upper_triangle = correlation_matrix.where(\n",
        "    pd.np.triu(pd.np.ones(correlation_matrix.shape), k=1).astype(bool)\n",
        ")\n",
        "highly_correlated_features = [column for column in upper_triangle.columns if any(upper_triangle[column].abs() > 0.9)]\n",
        "\n",
        "#Combining the lists of features to be removed\n",
        "features_to_remove = list(set(low_corr_with_target) | set(highly_correlated_features))\n",
        "\n",
        "features_to_remove"
      ],
      "metadata": {
        "colab": {
          "base_uri": "https://localhost:8080/"
        },
        "id": "_rwioxXW1WvK",
        "outputId": "153ff891-42ac-4183-c484-3bdae14cf2a0"
      },
      "execution_count": 10,
      "outputs": [
        {
          "output_type": "stream",
          "name": "stderr",
          "text": [
            "<ipython-input-10-c4783860ea20>:9: FutureWarning: The pandas.np module is deprecated and will be removed from pandas in a future version. Import numpy directly instead.\n",
            "  pd.np.triu(pd.np.ones(correlation_matrix.shape), k=1).astype(bool)\n"
          ]
        },
        {
          "output_type": "execute_result",
          "data": {
            "text/plain": [
              "['dis', 'chas', 'tax']"
            ]
          },
          "metadata": {},
          "execution_count": 10
        }
      ]
    },
    {
      "cell_type": "markdown",
      "source": [
        "Applying Linear regression and printing accuracy on Correlation-Based Filtered  dataset"
      ],
      "metadata": {
        "id": "09qbIfFfGmK_"
      }
    },
    {
      "cell_type": "code",
      "source": [
        "# Removing the identified features\n",
        "X_modified_2 = X.drop(columns=features_to_remove)\n",
        "\n",
        "# Splitting the modified dataset into training and test sets\n",
        "X_train_modified_2, X_test_modified_2, y_train_modified_2, y_test_modified_2 = train_test_split(\n",
        "    X_modified_2, y, test_size=0.2, random_state=42\n",
        ")\n",
        "\n",
        "# Retraining both models on the modified dataset\n",
        "\n",
        "# Linear Regression\n",
        "linear_model_modified_2 = LinearRegression()\n",
        "linear_model_modified_2.fit(X_train_modified_2, y_train_modified_2)\n",
        "linear_accuracy_modified_2 = linear_model_modified_2.score(X_test_modified_2, y_test_modified_2) * 100\n",
        "\n",
        "linear_accuracy_modified_2"
      ],
      "metadata": {
        "colab": {
          "base_uri": "https://localhost:8080/"
        },
        "id": "wHhuSaqS1gxL",
        "outputId": "0e6aaa93-9073-4036-fb3c-407547e3a13c"
      },
      "execution_count": 11,
      "outputs": [
        {
          "output_type": "execute_result",
          "data": {
            "text/plain": [
              "61.90445150906578"
            ]
          },
          "metadata": {},
          "execution_count": 11
        }
      ]
    },
    {
      "cell_type": "markdown",
      "source": [
        "Applying Random Forest and printing accuracy on Correlation-Based Filtered  dataset"
      ],
      "metadata": {
        "id": "w5UiDduOGT2T"
      }
    },
    {
      "cell_type": "code",
      "source": [
        "# Random Forest\n",
        "rf_model_modified_2 = RandomForestRegressor(random_state=42)\n",
        "rf_model_modified_2.fit(X_train_modified_2, y_train_modified_2)\n",
        "rf_accuracy_modified_2 = rf_model_modified_2.score(X_test_modified_2, y_test_modified_2) * 100\n",
        "\n",
        "rf_accuracy_modified_2"
      ],
      "metadata": {
        "colab": {
          "base_uri": "https://localhost:8080/"
        },
        "id": "tFfkFeSd5poh",
        "outputId": "c18314fb-f1c3-4d50-f778-3d470accd341"
      },
      "execution_count": 12,
      "outputs": [
        {
          "output_type": "execute_result",
          "data": {
            "text/plain": [
              "87.21120606683917"
            ]
          },
          "metadata": {},
          "execution_count": 12
        }
      ]
    },
    {
      "cell_type": "markdown",
      "source": [
        "\n",
        "# Compare results\n",
        "Please follow the attached file in the submission section for result comparison and further discussion\n"
      ],
      "metadata": {
        "id": "aWcq_SWI6Z-8"
      }
    }
  ]
}